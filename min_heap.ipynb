{
  "nbformat": 4,
  "nbformat_minor": 0,
  "metadata": {
    "colab": {
      "name": "min_heap.ipynb",
      "version": "0.3.2",
      "provenance": [],
      "include_colab_link": true
    },
    "kernelspec": {
      "name": "python3",
      "display_name": "Python 3"
    }
  },
  "cells": [
    {
      "cell_type": "markdown",
      "metadata": {
        "id": "view-in-github",
        "colab_type": "text"
      },
      "source": [
        "<a href=\"https://colab.research.google.com/github/tuanpx-dev/algorithm/blob/master/min_heap.ipynb\" target=\"_parent\"><img src=\"https://colab.research.google.com/assets/colab-badge.svg\" alt=\"Open In Colab\"/></a>"
      ]
    },
    {
      "cell_type": "code",
      "metadata": {
        "id": "J41Ns2Ec-lDP",
        "colab_type": "code",
        "colab": {}
      },
      "source": [
        "from __future__ import division"
      ],
      "execution_count": 0,
      "outputs": []
    },
    {
      "cell_type": "code",
      "metadata": {
        "id": "nA3W4sMtSYwV",
        "colab_type": "code",
        "colab": {}
      },
      "source": [
        "class MinHeap(object):\n",
        "\n",
        "    def __init__(self):\n",
        "        self.array = []\n",
        "\n",
        "    def __len__(self):\n",
        "        return len(self.array)\n",
        "\n",
        "    def extract_min(self):\n",
        "        if not self.array:\n",
        "            return None\n",
        "\n",
        "        if len(self.array) == 1:\n",
        "            return self.array.pop(0)\n",
        "\n",
        "        minimum = self.array[0]\n",
        "\n",
        "        self.array[0] = self.array.pop(-1)\n",
        "        self._bubble_down(index=0)\n",
        "\n",
        "        return minimum\n",
        "\n",
        "    def peek_min(self):\n",
        "        return self.array[0] if self.array else None\n",
        "\n",
        "    def insert(self, key):\n",
        "        if key is None:\n",
        "            raise TypeError('key cannot be None')\n",
        "\n",
        "        self.array.append(key)\n",
        "        self._bubble_up(index=len(self.array) - 1)\n",
        "\n",
        "    def _bubble_up(self, index):\n",
        "        if index == 0:\n",
        "            return\n",
        "        index_parent = (index - 1) // 2\n",
        "\n",
        "        if self.array[index] < self.array[index_parent]:\n",
        "            self.array[index], self.array[index_parent] = self.array[index_parent], self.array[index]\n",
        "            self._bubble_up(index_parent)\n",
        "\n",
        "    def _bubble_down(self, index):\n",
        "        min_child_index = self._find_smaller_child(index)\n",
        "        if min_child_index == -1:\n",
        "            return\n",
        "\n",
        "        if self.array[index] > self.array[min_child_index]:\n",
        "            self.array[index], self.array[min_child_index] = self.array[min_child_index], self.array[index]\n",
        "            self._bubble_down(min_child_index)\n",
        "\n",
        "    def _find_smaller_child(self, index):\n",
        "        left_child_index = 2 * index + 1\n",
        "        right_child_index = 2 * index + 2\n",
        "\n",
        "        if right_child_index >= len(self.array):\n",
        "            if left_child_index >= len(self.array):\n",
        "                return -1\n",
        "            else:\n",
        "                return left_child_index\n",
        "\n",
        "        else:\n",
        "            if self.array[left_child_index] < self.array[right_child_index]:\n",
        "                return left_child_index\n",
        "            else:\n",
        "                return right_child_index\n"
      ],
      "execution_count": 0,
      "outputs": []
    },
    {
      "cell_type": "code",
      "metadata": {
        "id": "1wPaFzF3e2fa",
        "colab_type": "code",
        "outputId": "858161d3-4464-4689-c60a-e8b2f18ba61b",
        "colab": {
          "base_uri": "https://localhost:8080/",
          "height": 34
        }
      },
      "source": [
        "heap = MinHeap()\n",
        "print(heap.peek_min())"
      ],
      "execution_count": 3,
      "outputs": [
        {
          "output_type": "stream",
          "text": [
            "None\n"
          ],
          "name": "stdout"
        }
      ]
    },
    {
      "cell_type": "code",
      "metadata": {
        "id": "0CfHJDXtkegD",
        "colab_type": "code",
        "outputId": "15beed4e-6146-4fd4-eea8-c894618633db",
        "colab": {
          "base_uri": "https://localhost:8080/",
          "height": 34
        }
      },
      "source": [
        "print(heap.extract_min())"
      ],
      "execution_count": 0,
      "outputs": [
        {
          "output_type": "stream",
          "text": [
            "1\n"
          ],
          "name": "stdout"
        }
      ]
    },
    {
      "cell_type": "code",
      "metadata": {
        "id": "FH8uDIcukzz3",
        "colab_type": "code",
        "outputId": "bdabcc2b-bf68-4e16-e160-f80f4c4ac414",
        "colab": {
          "base_uri": "https://localhost:8080/",
          "height": 34
        }
      },
      "source": [
        "heap.__len__()"
      ],
      "execution_count": 4,
      "outputs": [
        {
          "output_type": "execute_result",
          "data": {
            "text/plain": [
              "0"
            ]
          },
          "metadata": {
            "tags": []
          },
          "execution_count": 4
        }
      ]
    },
    {
      "cell_type": "code",
      "metadata": {
        "id": "Lj9zHtQpk351",
        "colab_type": "code",
        "outputId": "46daf381-f859-46d1-bf7a-2ef5d76be51c",
        "colab": {
          "base_uri": "https://localhost:8080/",
          "height": 283
        }
      },
      "source": [
        "heap.insert(None)"
      ],
      "execution_count": 6,
      "outputs": [
        {
          "output_type": "error",
          "ename": "TypeError",
          "evalue": "ignored",
          "traceback": [
            "\u001b[0;31m---------------------------------------------------------------------------\u001b[0m",
            "\u001b[0;31mTypeError\u001b[0m                                 Traceback (most recent call last)",
            "\u001b[0;32m<ipython-input-6-a8a8495f434a>\u001b[0m in \u001b[0;36m<module>\u001b[0;34m()\u001b[0m\n\u001b[0;32m----> 1\u001b[0;31m \u001b[0mheap\u001b[0m\u001b[0;34m.\u001b[0m\u001b[0minsert\u001b[0m\u001b[0;34m(\u001b[0m\u001b[0;32mNone\u001b[0m\u001b[0;34m)\u001b[0m\u001b[0;34m\u001b[0m\u001b[0;34m\u001b[0m\u001b[0m\n\u001b[0m",
            "\u001b[0;32m<ipython-input-2-ddf79fe89598>\u001b[0m in \u001b[0;36minsert\u001b[0;34m(self, key)\u001b[0m\n\u001b[1;32m     26\u001b[0m     \u001b[0;32mdef\u001b[0m \u001b[0minsert\u001b[0m\u001b[0;34m(\u001b[0m\u001b[0mself\u001b[0m\u001b[0;34m,\u001b[0m \u001b[0mkey\u001b[0m\u001b[0;34m)\u001b[0m\u001b[0;34m:\u001b[0m\u001b[0;34m\u001b[0m\u001b[0;34m\u001b[0m\u001b[0m\n\u001b[1;32m     27\u001b[0m         \u001b[0;32mif\u001b[0m \u001b[0mkey\u001b[0m \u001b[0;32mis\u001b[0m \u001b[0;32mNone\u001b[0m\u001b[0;34m:\u001b[0m\u001b[0;34m\u001b[0m\u001b[0;34m\u001b[0m\u001b[0m\n\u001b[0;32m---> 28\u001b[0;31m             \u001b[0;32mraise\u001b[0m \u001b[0mTypeError\u001b[0m\u001b[0;34m(\u001b[0m\u001b[0;34m'key cannot be None'\u001b[0m\u001b[0;34m)\u001b[0m\u001b[0;34m\u001b[0m\u001b[0;34m\u001b[0m\u001b[0m\n\u001b[0m\u001b[1;32m     29\u001b[0m \u001b[0;34m\u001b[0m\u001b[0m\n\u001b[1;32m     30\u001b[0m         \u001b[0mself\u001b[0m\u001b[0;34m.\u001b[0m\u001b[0marray\u001b[0m\u001b[0;34m.\u001b[0m\u001b[0mappend\u001b[0m\u001b[0;34m(\u001b[0m\u001b[0mkey\u001b[0m\u001b[0;34m)\u001b[0m\u001b[0;34m\u001b[0m\u001b[0;34m\u001b[0m\u001b[0m\n",
            "\u001b[0;31mTypeError\u001b[0m: key cannot be None"
          ]
        }
      ]
    },
    {
      "cell_type": "code",
      "metadata": {
        "id": "VC7pXuD7mA4F",
        "colab_type": "code",
        "outputId": "55eccf6d-a9a3-4130-ed22-054b730abcc7",
        "colab": {
          "base_uri": "https://localhost:8080/",
          "height": 34
        }
      },
      "source": [
        "heap"
      ],
      "execution_count": 0,
      "outputs": [
        {
          "output_type": "execute_result",
          "data": {
            "text/plain": [
              "<__main__.MinHeap at 0x7f497dd359e8>"
            ]
          },
          "metadata": {
            "tags": []
          },
          "execution_count": 15
        }
      ]
    }
  ]
}