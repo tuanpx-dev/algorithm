{
  "nbformat": 4,
  "nbformat_minor": 0,
  "metadata": {
    "colab": {
      "name": "min_heap.ipynb",
      "version": "0.3.2",
      "provenance": [],
      "include_colab_link": true
    },
    "kernelspec": {
      "name": "python3",
      "display_name": "Python 3"
    }
  },
  "cells": [
    {
      "cell_type": "markdown",
      "metadata": {
        "id": "view-in-github",
        "colab_type": "text"
      },
      "source": [
        "<a href=\"https://colab.research.google.com/github/tuanpx-dev/algorithm/blob/master/min_heap.ipynb\" target=\"_parent\"><img src=\"https://colab.research.google.com/assets/colab-badge.svg\" alt=\"Open In Colab\"/></a>"
      ]
    },
    {
      "cell_type": "code",
      "metadata": {
        "id": "J41Ns2Ec-lDP",
        "colab_type": "code",
        "colab": {}
      },
      "source": [
        "from __future__ import division"
      ],
      "execution_count": 0,
      "outputs": []
    },
    {
      "cell_type": "code",
      "metadata": {
        "id": "nA3W4sMtSYwV",
        "colab_type": "code",
        "colab": {}
      },
      "source": [
        "class MinHeap(object):\n",
        "  \n",
        "  \n",
        "  def __init__(self):\n",
        "    self.array = []\n",
        "    \n",
        "    \n",
        "  def __len__(self):\n",
        "    return len(self.array)\n",
        "  \n",
        "  def extract_min():\n",
        "    if not self.array:\n",
        "      return None\n",
        "    if len(self.array)==1:\n",
        "      return self.array.pop(0)\n",
        "    minium = self.array[0]\n",
        "    \n",
        "    self.array[0] = self.array.pop(-1)\n",
        "    self._bublue_down(index=0)\n",
        "    return minium\n",
        "  \n",
        "  def peek_min(self):\n",
        "    return self.array[0] if self.array else None\n",
        "  \n",
        "  def insert(self, key):\n",
        "    if key is None\n",
        "      raise TypeError('key cannot be None')\n",
        "      \n",
        "    self.array.append()\n",
        "    \n",
        "  \n",
        "  return self.array(0)\n",
        "    "
      ],
      "execution_count": 0,
      "outputs": []
    }
  ]
}