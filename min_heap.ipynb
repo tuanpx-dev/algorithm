{
  "nbformat": 4,
  "nbformat_minor": 0,
  "metadata": {
    "colab": {
      "name": "min_heap.ipynb",
      "version": "0.3.2",
      "provenance": [],
      "include_colab_link": true
    },
    "kernelspec": {
      "name": "python3",
      "display_name": "Python 3"
    }
  },
  "cells": [
    {
      "cell_type": "markdown",
      "metadata": {
        "id": "view-in-github",
        "colab_type": "text"
      },
      "source": [
        "<a href=\"https://colab.research.google.com/github/tuanpx-dev/algorithm/blob/master/min_heap.ipynb\" target=\"_parent\"><img src=\"https://colab.research.google.com/assets/colab-badge.svg\" alt=\"Open In Colab\"/></a>"
      ]
    },
    {
      "cell_type": "code",
      "metadata": {
        "id": "J41Ns2Ec-lDP",
        "colab_type": "code",
        "colab": {}
      },
      "source": [
        "from __future__ import division"
      ],
      "execution_count": 0,
      "outputs": []
    },
    {
      "cell_type": "code",
      "metadata": {
        "id": "nA3W4sMtSYwV",
        "colab_type": "code",
        "colab": {}
      },
      "source": [
        "class MinHeap(object):\n",
        "\n",
        "    def __init__(self):\n",
        "        self.array = []\n",
        "\n",
        "    def __len__(self):\n",
        "        return len(self.array)\n",
        "\n",
        "    def extract_min(self):\n",
        "        if not self.array:\n",
        "            return None\n",
        "\n",
        "        if len(self.array) == 1:\n",
        "            return self.array.pop(0)\n",
        "\n",
        "        minimum = self.array[0]\n",
        "\n",
        "        self.array[0] = self.array.pop(-1)\n",
        "        self._bubble_down(index=0)\n",
        "\n",
        "        return minimum\n",
        "\n",
        "    def peek_min(self):\n",
        "        return self.array[0] if self.array else None\n",
        "\n",
        "    def insert(self, key):\n",
        "        if key is None:\n",
        "            raise TypeError('key cannot be None')\n",
        "\n",
        "        self.array.append(key)\n",
        "        self._bubble_up(index=len(self.array) - 1)\n",
        "\n",
        "    def _bubble_up(self, index):\n",
        "        if index == 0:\n",
        "            return\n",
        "        index_parent = (index - 1) // 2\n",
        "\n",
        "        if self.array[index] < self.array[index_parent]:\n",
        "            self.array[index], self.array[index_parent] = self.array[index_parent], self.array[index]\n",
        "            self._bubble_up(index_parent)\n",
        "\n",
        "    def _bubble_down(self, index):\n",
        "        min_child_index = self._find_smaller_child(index)\n",
        "        if min_child_index == -1:\n",
        "            return\n",
        "\n",
        "        if self.array[index] > self.array[min_child_index]:\n",
        "            self.array[index], self.array[min_child_index] = self.array[min_child_index], self.array[index]\n",
        "            self._bubble_down(min_child_index)\n",
        "\n",
        "    def _find_smaller_child(self, index):\n",
        "        left_child_index = 2 * index + 1\n",
        "        right_child_index = 2 * index + 2\n",
        "\n",
        "        if right_child_index >= len(self.array):\n",
        "            if left_child_index >= len(self.array):\n",
        "                return -1\n",
        "            else:\n",
        "                return left_child_index\n",
        "\n",
        "        else:\n",
        "            if self.array[left_child_index] < self.array[right_child_index]:\n",
        "                return left_child_index\n",
        "            else:\n",
        "                return right_child_index\n"
      ],
      "execution_count": 0,
      "outputs": []
    }
  ]
}