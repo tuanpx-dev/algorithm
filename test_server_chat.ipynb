{
  "nbformat": 4,
  "nbformat_minor": 0,
  "metadata": {
    "colab": {
      "name": "test_server_chat.ipynb",
      "version": "0.3.2",
      "provenance": [],
      "include_colab_link": true
    },
    "kernelspec": {
      "name": "python3",
      "display_name": "Python 3"
    }
  },
  "cells": [
    {
      "cell_type": "markdown",
      "metadata": {
        "id": "view-in-github",
        "colab_type": "text"
      },
      "source": [
        "<a href=\"https://colab.research.google.com/github/tuanpx-dev/algorithm/blob/master/test_server_chat.ipynb\" target=\"_parent\"><img src=\"https://colab.research.google.com/assets/colab-badge.svg\" alt=\"Open In Colab\"/></a>"
      ]
    },
    {
      "cell_type": "code",
      "metadata": {
        "id": "SjJ-TSYwZ-4c",
        "colab_type": "code",
        "colab": {
          "base_uri": "https://localhost:8080/",
          "height": 130
        },
        "outputId": "469c8cf5-434d-49e2-c22e-c46c776197b1"
      },
      "source": [
        "from abc import ABCMeta\n",
        "\n",
        "\n",
        "class UserService(object):\n",
        "\n",
        "    def __init__(self):\n",
        "        self.users_by_id = {}  # key: user id, value: User\n",
        "\n",
        "    def add_user(self, user_id, name, pass_hash):  # ...\n",
        "    def remove_user(self, user_id):  # ...\n",
        "    def add_friend_request(self, from_user_id, to_user_id):  # ...\n",
        "    def approve_friend_request(self, from_user_id, to_user_id):  # ...\n",
        "    def reject_friend_request(self, from_user_id, to_user_id):  # ...\n",
        "\n",
        "\n",
        "class User(object):\n",
        "\n",
        "    def __init__(self, user_id, name, pass_hash):\n",
        "        self.user_id = user_id\n",
        "        self.name = name\n",
        "        self.pass_hash = pass_hash\n",
        "        self.friends_by_id = {}  # key: friend id, value: User\n",
        "        self.friend_ids_to_private_chats = {}  # key: friend id, value: private chats\n",
        "        self.group_chats_by_id = {}  # key: chat id, value: GroupChat\n",
        "        self.received_friend_requests_by_friend_id = {}  # key: friend id, value: AddRequest\n",
        "        self.sent_friend_requests_by_friend_id = {}  # key: friend id, value: AddRequest\n",
        "\n",
        "    def message_user(self, friend_id, message):  # ...\n",
        "    def message_group(self, group_id, message):  # ...\n",
        "    def send_friend_request(self, friend_id):  # ...\n",
        "    def receive_friend_request(self, friend_id):  # ...\n",
        "    def approve_friend_request(self, friend_id):  # ...\n",
        "    def reject_friend_request(self, friend_id):  # ...\n",
        "\n",
        "\n",
        "class Chat(metaclass=ABCMeta):\n",
        "\n",
        "    def __init__(self, chat_id):\n",
        "        self.chat_id = chat_id\n",
        "        self.users = []\n",
        "        self.messages = []\n",
        "\n",
        "\n",
        "class PrivateChat(Chat):\n",
        "\n",
        "    def __init__(self, first_user, second_user):\n",
        "        super(PrivateChat, self).__init__()\n",
        "        self.users.append(first_user)\n",
        "        self.users.append(second_user)\n",
        "\n",
        "\n",
        "class GroupChat(Chat):\n",
        "\n",
        "    def add_user(self, user):  # ...\n",
        "    def remove_user(self, user):  # ... \n",
        "\n",
        "\n",
        "class Message(object):\n",
        "\n",
        "    def __init__(self, message_id, message, timestamp):\n",
        "        self.message_id = message_id\n",
        "        self.message = message\n",
        "        self.timestamp = timestamp\n",
        "\n",
        "\n",
        "class AddRequest(object):\n",
        "\n",
        "    def __init__(self, from_user_id, to_user_id, request_status, timestamp):\n",
        "        self.from_user_id = from_user_id\n",
        "        self.to_user_id = to_user_id\n",
        "        self.request_status = request_status\n",
        "        self.timestamp = timestamp\n",
        "\n",
        "\n",
        "class RequestStatus(Enum):\n",
        "\n",
        "    UNREAD = 0\n",
        "    READ = 1\n",
        "    ACCEPTED = 2\n",
        "    REJECTED = 3"
      ],
      "execution_count": 1,
      "outputs": [
        {
          "output_type": "error",
          "ename": "IndentationError",
          "evalue": "ignored",
          "traceback": [
            "\u001b[0;36m  File \u001b[0;32m\"<ipython-input-1-4321be789286>\"\u001b[0;36m, line \u001b[0;32m10\u001b[0m\n\u001b[0;31m    def remove_user(self, user_id):  # ...\u001b[0m\n\u001b[0m      ^\u001b[0m\n\u001b[0;31mIndentationError\u001b[0m\u001b[0;31m:\u001b[0m expected an indented block\n"
          ]
        }
      ]
    }
  ]
}